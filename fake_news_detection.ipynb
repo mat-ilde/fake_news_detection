{
 "cells": [
  {
   "cell_type": "code",
   "execution_count": 2,
   "id": "361fc3aa",
   "metadata": {},
   "outputs": [],
   "source": [
    "import numpy as np \n",
    "import pandas as pd \n",
    "import json \n",
    "import csv \n",
    "import random \n",
    "\n",
    "from tensorflow.keras.preprocessing.text import Tokenizer \n",
    "from tensorflow.keras.preprocessing.sequence import pad_sequences \n",
    "from tensorflow.keras.utils import to_categorical \n",
    "from tensorflow.keras import regularizers \n",
    "\n",
    "import pprint \n",
    "import tensorflow.compat.v1 as tf \n",
    "from tensorflow.python.framework import ops \n",
    "from sklearn.model_selection import train_test_split \n",
    "from sklearn import preprocessing \n",
    "tf.disable_eager_execution() "
   ]
  },
  {
   "cell_type": "markdown",
   "id": "d25ff4f4",
   "metadata": {},
   "source": [
    "## Reading the data "
   ]
  },
  {
   "cell_type": "code",
   "execution_count": 3,
   "id": "e01304ab",
   "metadata": {},
   "outputs": [
    {
     "data": {
      "text/html": [
       "<div>\n",
       "<style scoped>\n",
       "    .dataframe tbody tr th:only-of-type {\n",
       "        vertical-align: middle;\n",
       "    }\n",
       "\n",
       "    .dataframe tbody tr th {\n",
       "        vertical-align: top;\n",
       "    }\n",
       "\n",
       "    .dataframe thead th {\n",
       "        text-align: right;\n",
       "    }\n",
       "</style>\n",
       "<table border=\"1\" class=\"dataframe\">\n",
       "  <thead>\n",
       "    <tr style=\"text-align: right;\">\n",
       "      <th></th>\n",
       "      <th>Unnamed: 0</th>\n",
       "      <th>title</th>\n",
       "      <th>text</th>\n",
       "      <th>label</th>\n",
       "    </tr>\n",
       "  </thead>\n",
       "  <tbody>\n",
       "    <tr>\n",
       "      <th>0</th>\n",
       "      <td>8476</td>\n",
       "      <td>You Can Smell Hillary’s Fear</td>\n",
       "      <td>Daniel Greenfield, a Shillman Journalism Fello...</td>\n",
       "      <td>FAKE</td>\n",
       "    </tr>\n",
       "    <tr>\n",
       "      <th>1</th>\n",
       "      <td>10294</td>\n",
       "      <td>Watch The Exact Moment Paul Ryan Committed Pol...</td>\n",
       "      <td>Google Pinterest Digg Linkedin Reddit Stumbleu...</td>\n",
       "      <td>FAKE</td>\n",
       "    </tr>\n",
       "    <tr>\n",
       "      <th>2</th>\n",
       "      <td>3608</td>\n",
       "      <td>Kerry to go to Paris in gesture of sympathy</td>\n",
       "      <td>U.S. Secretary of State John F. Kerry said Mon...</td>\n",
       "      <td>REAL</td>\n",
       "    </tr>\n",
       "    <tr>\n",
       "      <th>3</th>\n",
       "      <td>10142</td>\n",
       "      <td>Bernie supporters on Twitter erupt in anger ag...</td>\n",
       "      <td>— Kaydee King (@KaydeeKing) November 9, 2016 T...</td>\n",
       "      <td>FAKE</td>\n",
       "    </tr>\n",
       "    <tr>\n",
       "      <th>4</th>\n",
       "      <td>875</td>\n",
       "      <td>The Battle of New York: Why This Primary Matters</td>\n",
       "      <td>It's primary day in New York and front-runners...</td>\n",
       "      <td>REAL</td>\n",
       "    </tr>\n",
       "  </tbody>\n",
       "</table>\n",
       "</div>"
      ],
      "text/plain": [
       "   Unnamed: 0                                              title  \\\n",
       "0        8476                       You Can Smell Hillary’s Fear   \n",
       "1       10294  Watch The Exact Moment Paul Ryan Committed Pol...   \n",
       "2        3608        Kerry to go to Paris in gesture of sympathy   \n",
       "3       10142  Bernie supporters on Twitter erupt in anger ag...   \n",
       "4         875   The Battle of New York: Why This Primary Matters   \n",
       "\n",
       "                                                text label  \n",
       "0  Daniel Greenfield, a Shillman Journalism Fello...  FAKE  \n",
       "1  Google Pinterest Digg Linkedin Reddit Stumbleu...  FAKE  \n",
       "2  U.S. Secretary of State John F. Kerry said Mon...  REAL  \n",
       "3  — Kaydee King (@KaydeeKing) November 9, 2016 T...  FAKE  \n",
       "4  It's primary day in New York and front-runners...  REAL  "
      ]
     },
     "execution_count": 3,
     "metadata": {},
     "output_type": "execute_result"
    }
   ],
   "source": [
    "\n",
    "data = pd.read_csv(\"./data/news.csv\") \n",
    "data.head() \n"
   ]
  },
  {
   "cell_type": "markdown",
   "id": "29d742ad",
   "metadata": {},
   "source": [
    "## Data processing"
   ]
  },
  {
   "cell_type": "code",
   "execution_count": 4,
   "id": "25669b58",
   "metadata": {},
   "outputs": [],
   "source": [
    "data = data.drop([\"Unnamed: 0\"], axis=1) "
   ]
  },
  {
   "cell_type": "markdown",
   "id": "fb61b5e3",
   "metadata": {},
   "source": [
    "## Checking null data"
   ]
  },
  {
   "cell_type": "code",
   "execution_count": 5,
   "id": "47ae6dbe",
   "metadata": {},
   "outputs": [
    {
     "data": {
      "text/plain": [
       "title    0\n",
       "text     0\n",
       "label    0\n",
       "dtype: int64"
      ]
     },
     "execution_count": 5,
     "metadata": {},
     "output_type": "execute_result"
    }
   ],
   "source": [
    "data.isnull().sum()"
   ]
  },
  {
   "cell_type": "markdown",
   "id": "2a5827ae",
   "metadata": {},
   "source": [
    "## Encoding label values"
   ]
  },
  {
   "cell_type": "code",
   "execution_count": 6,
   "id": "271baa70",
   "metadata": {},
   "outputs": [],
   "source": [
    "le=preprocessing.LabelEncoder()\n",
    "le.fit(data[\"label\"])\n",
    "data[\"label\"]=le.transform(data[\"label\"])"
   ]
  },
  {
   "cell_type": "code",
   "execution_count": 7,
   "id": "dd1a6889",
   "metadata": {},
   "outputs": [
    {
     "data": {
      "text/html": [
       "<div>\n",
       "<style scoped>\n",
       "    .dataframe tbody tr th:only-of-type {\n",
       "        vertical-align: middle;\n",
       "    }\n",
       "\n",
       "    .dataframe tbody tr th {\n",
       "        vertical-align: top;\n",
       "    }\n",
       "\n",
       "    .dataframe thead th {\n",
       "        text-align: right;\n",
       "    }\n",
       "</style>\n",
       "<table border=\"1\" class=\"dataframe\">\n",
       "  <thead>\n",
       "    <tr style=\"text-align: right;\">\n",
       "      <th></th>\n",
       "      <th>title</th>\n",
       "      <th>text</th>\n",
       "      <th>label</th>\n",
       "    </tr>\n",
       "  </thead>\n",
       "  <tbody>\n",
       "    <tr>\n",
       "      <th>0</th>\n",
       "      <td>You Can Smell Hillary’s Fear</td>\n",
       "      <td>Daniel Greenfield, a Shillman Journalism Fello...</td>\n",
       "      <td>0</td>\n",
       "    </tr>\n",
       "    <tr>\n",
       "      <th>1</th>\n",
       "      <td>Watch The Exact Moment Paul Ryan Committed Pol...</td>\n",
       "      <td>Google Pinterest Digg Linkedin Reddit Stumbleu...</td>\n",
       "      <td>0</td>\n",
       "    </tr>\n",
       "    <tr>\n",
       "      <th>2</th>\n",
       "      <td>Kerry to go to Paris in gesture of sympathy</td>\n",
       "      <td>U.S. Secretary of State John F. Kerry said Mon...</td>\n",
       "      <td>1</td>\n",
       "    </tr>\n",
       "    <tr>\n",
       "      <th>3</th>\n",
       "      <td>Bernie supporters on Twitter erupt in anger ag...</td>\n",
       "      <td>— Kaydee King (@KaydeeKing) November 9, 2016 T...</td>\n",
       "      <td>0</td>\n",
       "    </tr>\n",
       "    <tr>\n",
       "      <th>4</th>\n",
       "      <td>The Battle of New York: Why This Primary Matters</td>\n",
       "      <td>It's primary day in New York and front-runners...</td>\n",
       "      <td>1</td>\n",
       "    </tr>\n",
       "    <tr>\n",
       "      <th>...</th>\n",
       "      <td>...</td>\n",
       "      <td>...</td>\n",
       "      <td>...</td>\n",
       "    </tr>\n",
       "    <tr>\n",
       "      <th>6330</th>\n",
       "      <td>State Department says it can't find emails fro...</td>\n",
       "      <td>The State Department told the Republican Natio...</td>\n",
       "      <td>1</td>\n",
       "    </tr>\n",
       "    <tr>\n",
       "      <th>6331</th>\n",
       "      <td>The ‘P’ in PBS Should Stand for ‘Plutocratic’ ...</td>\n",
       "      <td>The ‘P’ in PBS Should Stand for ‘Plutocratic’ ...</td>\n",
       "      <td>0</td>\n",
       "    </tr>\n",
       "    <tr>\n",
       "      <th>6332</th>\n",
       "      <td>Anti-Trump Protesters Are Tools of the Oligarc...</td>\n",
       "      <td>Anti-Trump Protesters Are Tools of the Oligar...</td>\n",
       "      <td>0</td>\n",
       "    </tr>\n",
       "    <tr>\n",
       "      <th>6333</th>\n",
       "      <td>In Ethiopia, Obama seeks progress on peace, se...</td>\n",
       "      <td>ADDIS ABABA, Ethiopia —President Obama convene...</td>\n",
       "      <td>1</td>\n",
       "    </tr>\n",
       "    <tr>\n",
       "      <th>6334</th>\n",
       "      <td>Jeb Bush Is Suddenly Attacking Trump. Here's W...</td>\n",
       "      <td>Jeb Bush Is Suddenly Attacking Trump. Here's W...</td>\n",
       "      <td>1</td>\n",
       "    </tr>\n",
       "  </tbody>\n",
       "</table>\n",
       "<p>6335 rows × 3 columns</p>\n",
       "</div>"
      ],
      "text/plain": [
       "                                                  title  \\\n",
       "0                          You Can Smell Hillary’s Fear   \n",
       "1     Watch The Exact Moment Paul Ryan Committed Pol...   \n",
       "2           Kerry to go to Paris in gesture of sympathy   \n",
       "3     Bernie supporters on Twitter erupt in anger ag...   \n",
       "4      The Battle of New York: Why This Primary Matters   \n",
       "...                                                 ...   \n",
       "6330  State Department says it can't find emails fro...   \n",
       "6331  The ‘P’ in PBS Should Stand for ‘Plutocratic’ ...   \n",
       "6332  Anti-Trump Protesters Are Tools of the Oligarc...   \n",
       "6333  In Ethiopia, Obama seeks progress on peace, se...   \n",
       "6334  Jeb Bush Is Suddenly Attacking Trump. Here's W...   \n",
       "\n",
       "                                                   text  label  \n",
       "0     Daniel Greenfield, a Shillman Journalism Fello...      0  \n",
       "1     Google Pinterest Digg Linkedin Reddit Stumbleu...      0  \n",
       "2     U.S. Secretary of State John F. Kerry said Mon...      1  \n",
       "3     — Kaydee King (@KaydeeKing) November 9, 2016 T...      0  \n",
       "4     It's primary day in New York and front-runners...      1  \n",
       "...                                                 ...    ...  \n",
       "6330  The State Department told the Republican Natio...      1  \n",
       "6331  The ‘P’ in PBS Should Stand for ‘Plutocratic’ ...      0  \n",
       "6332   Anti-Trump Protesters Are Tools of the Oligar...      0  \n",
       "6333  ADDIS ABABA, Ethiopia —President Obama convene...      1  \n",
       "6334  Jeb Bush Is Suddenly Attacking Trump. Here's W...      1  \n",
       "\n",
       "[6335 rows x 3 columns]"
      ]
     },
     "execution_count": 7,
     "metadata": {},
     "output_type": "execute_result"
    }
   ],
   "source": [
    "data"
   ]
  },
  {
   "cell_type": "markdown",
   "id": "0648cd69",
   "metadata": {},
   "source": [
    "## Variables"
   ]
  },
  {
   "cell_type": "code",
   "execution_count": 8,
   "id": "31cd6748",
   "metadata": {},
   "outputs": [],
   "source": [
    "embedding_dim = 50\n",
    "max_length = 54\n",
    "trunc_type = 'post'\n",
    "padding_type = 'post'\n",
    "oov_tok = \"<OOV>\"\n",
    "training_size = 3000\n",
    "test_portion = .1\n"
   ]
  },
  {
   "cell_type": "markdown",
   "id": "421f6fd6",
   "metadata": {},
   "source": [
    "## Tokenization"
   ]
  },
  {
   "cell_type": "code",
   "execution_count": 9,
   "id": "29e2f648",
   "metadata": {},
   "outputs": [],
   "source": [
    "title = [] \n",
    "text = [] \n",
    "labels = [] \n",
    "for x in range(training_size): \n",
    "    title.append(data['title'][x]) \n",
    "    text.append(data['text'][x]) \n",
    "    labels.append(data['label'][x]) \n"
   ]
  },
  {
   "cell_type": "code",
   "execution_count": 10,
   "id": "2bd89d47",
   "metadata": {},
   "outputs": [],
   "source": [
    "tokenizer1 = Tokenizer() \n",
    "tokenizer1.fit_on_texts(title) \n",
    "word_index1 = tokenizer1.word_index \n",
    "vocab_size1 = len(word_index1) \n",
    "sequences1 = tokenizer1.texts_to_sequences(title) \n",
    "padded1 = pad_sequences( \n",
    "    sequences1, padding=padding_type, truncating=trunc_type) \n",
    "split = int(test_portion * training_size) \n",
    "training_sequences1 = padded1[split:training_size] \n",
    "test_sequences1 = padded1[0:split] \n",
    "test_labels = labels[0:split] \n",
    "training_labels = labels[split:training_size] \n"
   ]
  },
  {
   "cell_type": "markdown",
   "id": "dffe5754",
   "metadata": {},
   "source": [
    "## Embedding"
   ]
  },
  {
   "cell_type": "code",
   "execution_count": 13,
   "id": "2d5621d3",
   "metadata": {},
   "outputs": [],
   "source": [
    "embeddings_index = {} \n",
    "with open('./data/glove.6B.50d.txt') as f: \n",
    "    for line in f: \n",
    "        values = line.split() \n",
    "        word = values[0] \n",
    "        coefs = np.asarray(values[1:], dtype='float32') \n",
    "        embeddings_index[word] = coefs \n",
    "\n",
    "# Generating embeddings \n",
    "embeddings_matrix = np.zeros((vocab_size1+1, embedding_dim)) \n",
    "for word, i in word_index1.items(): \n",
    "    embedding_vector = embeddings_index.get(word) \n",
    "    if embedding_vector is not None: \n",
    "        embeddings_matrix[i] = embedding_vector \n"
   ]
  },
  {
   "cell_type": "markdown",
   "id": "301fa02b",
   "metadata": {},
   "source": [
    "## Model architecture"
   ]
  },
  {
   "cell_type": "code",
   "execution_count": 15,
   "id": "08252e7c",
   "metadata": {},
   "outputs": [
    {
     "name": "stderr",
     "output_type": "stream",
     "text": [
      "2024-04-09 17:26:05.988156: I external/local_xla/xla/stream_executor/cuda/cuda_executor.cc:887] could not open file to read NUMA node: /sys/bus/pci/devices/0000:01:00.0/numa_node\n",
      "Your kernel may have been built without NUMA support.\n",
      "2024-04-09 17:26:06.007125: W tensorflow/core/common_runtime/gpu/gpu_device.cc:2256] Cannot dlopen some GPU libraries. Please make sure the missing libraries mentioned above are installed properly if you would like to use GPU. Follow the guide at https://www.tensorflow.org/install/gpu for how to download and setup the required libraries for your platform.\n",
      "Skipping registering GPU devices...\n",
      "2024-04-09 17:26:06.016582: I tensorflow/compiler/mlir/mlir_graph_optimization_pass.cc:388] MLIR V1 optimization pass is not enabled\n",
      "2024-04-09 17:26:06.036397: W tensorflow/c/c_api.cc:305] Operation '{name:'embedding/embeddings/Assign' id:15 op device:{requested: '', assigned: ''} def:{{{node embedding/embeddings/Assign}} = AssignVariableOp[_has_manual_control_dependencies=true, dtype=DT_FLOAT, validate_shape=false](embedding/embeddings, embedding/embeddings/Initializer/stateless_random_uniform)}}' was changed by setting attribute after it was run by a session. This mutation will have no effect, and will trigger an error in the future. Either don't modify nodes after running them or create a new session.\n"
     ]
    },
    {
     "name": "stdout",
     "output_type": "stream",
     "text": [
      "Model: \"sequential\"\n",
      "_________________________________________________________________\n",
      " Layer (type)                Output Shape              Param #   \n",
      "=================================================================\n",
      " embedding (Embedding)       (None, 54, 50)            377600    \n",
      "                                                                 \n",
      " dropout (Dropout)           (None, 54, 50)            0         \n",
      "                                                                 \n",
      " conv1d (Conv1D)             (None, 50, 64)            16064     \n",
      "                                                                 \n",
      " max_pooling1d (MaxPooling1  (None, 12, 64)            0         \n",
      " D)                                                              \n",
      "                                                                 \n",
      " lstm (LSTM)                 (None, 64)                33024     \n",
      "                                                                 \n",
      " dense (Dense)               (None, 1)                 65        \n",
      "                                                                 \n",
      "=================================================================\n",
      "Total params: 426753 (1.63 MB)\n",
      "Trainable params: 49153 (192.00 KB)\n",
      "Non-trainable params: 377600 (1.44 MB)\n",
      "_________________________________________________________________\n"
     ]
    }
   ],
   "source": [
    "model = tf.keras.Sequential([ \n",
    "    tf.keras.layers.Embedding(vocab_size1+1, embedding_dim, \n",
    "                            input_length=max_length, weights=[ \n",
    "                                embeddings_matrix], \n",
    "                            trainable=False), \n",
    "    tf.keras.layers.Dropout(0.2), \n",
    "    tf.keras.layers.Conv1D(64, 5, activation='relu'), \n",
    "    tf.keras.layers.MaxPooling1D(pool_size=4), \n",
    "    tf.keras.layers.LSTM(64), \n",
    "    tf.keras.layers.Dense(1, activation='sigmoid') \n",
    "    ]) \n",
    "model.compile(loss='binary_crossentropy', \n",
    "optimizer='adam', metrics=['accuracy']) \n",
    "model.summary() \n"
   ]
  },
  {
   "cell_type": "markdown",
   "id": "2bddba90",
   "metadata": {},
   "source": [
    "## Training"
   ]
  },
  {
   "cell_type": "code",
   "execution_count": 16,
   "id": "16a7f371",
   "metadata": {},
   "outputs": [
    {
     "name": "stdout",
     "output_type": "stream",
     "text": [
      "Train on 2700 samples, validate on 300 samples\n",
      "Epoch 1/50\n"
     ]
    },
    {
     "name": "stderr",
     "output_type": "stream",
     "text": [
      "2024-04-09 17:26:51.385345: W tensorflow/c/c_api.cc:305] Operation '{name:'training/Adam/lstm/lstm_cell/bias/v/Assign' id:1042 op device:{requested: '', assigned: ''} def:{{{node training/Adam/lstm/lstm_cell/bias/v/Assign}} = AssignVariableOp[_has_manual_control_dependencies=true, dtype=DT_FLOAT, validate_shape=false](training/Adam/lstm/lstm_cell/bias/v, training/Adam/lstm/lstm_cell/bias/v/Initializer/zeros)}}' was changed by setting attribute after it was run by a session. This mutation will have no effect, and will trigger an error in the future. Either don't modify nodes after running them or create a new session.\n"
     ]
    },
    {
     "name": "stdout",
     "output_type": "stream",
     "text": [
      "2700/2700 - 1s - loss: 0.6572 - accuracy: 0.5930 - val_loss: 0.5911 - val_accuracy: 0.6833 - 1s/epoch - 397us/sample\n",
      "Epoch 2/50\n"
     ]
    },
    {
     "name": "stderr",
     "output_type": "stream",
     "text": [
      "/home/mps/.local/lib/python3.10/site-packages/keras/src/engine/training_v1.py:2335: UserWarning: `Model.state_updates` will be removed in a future version. This property should not be used in TensorFlow 2.0, as `updates` are applied automatically.\n",
      "  updates = self.state_updates\n",
      "2024-04-09 17:26:52.405757: W tensorflow/c/c_api.cc:305] Operation '{name:'loss/mul' id:685 op device:{requested: '', assigned: ''} def:{{{node loss/mul}} = Mul[T=DT_FLOAT, _has_manual_control_dependencies=true](loss/mul/x, loss/dense_loss/value)}}' was changed by setting attribute after it was run by a session. This mutation will have no effect, and will trigger an error in the future. Either don't modify nodes after running them or create a new session.\n"
     ]
    },
    {
     "name": "stdout",
     "output_type": "stream",
     "text": [
      "2700/2700 - 1s - loss: 0.5822 - accuracy: 0.6930 - val_loss: 0.5493 - val_accuracy: 0.7133 - 707ms/epoch - 262us/sample\n",
      "Epoch 3/50\n",
      "2700/2700 - 1s - loss: 0.5435 - accuracy: 0.7315 - val_loss: 0.5155 - val_accuracy: 0.7167 - 694ms/epoch - 257us/sample\n",
      "Epoch 4/50\n",
      "2700/2700 - 1s - loss: 0.4992 - accuracy: 0.7533 - val_loss: 0.5102 - val_accuracy: 0.7333 - 754ms/epoch - 279us/sample\n",
      "Epoch 5/50\n",
      "2700/2700 - 1s - loss: 0.4518 - accuracy: 0.7900 - val_loss: 0.5066 - val_accuracy: 0.7300 - 680ms/epoch - 252us/sample\n",
      "Epoch 6/50\n",
      "2700/2700 - 1s - loss: 0.4158 - accuracy: 0.8141 - val_loss: 0.5151 - val_accuracy: 0.7433 - 690ms/epoch - 256us/sample\n",
      "Epoch 7/50\n",
      "2700/2700 - 1s - loss: 0.3517 - accuracy: 0.8526 - val_loss: 0.5325 - val_accuracy: 0.7433 - 734ms/epoch - 272us/sample\n",
      "Epoch 8/50\n",
      "2700/2700 - 1s - loss: 0.3181 - accuracy: 0.8626 - val_loss: 0.5292 - val_accuracy: 0.7367 - 690ms/epoch - 256us/sample\n",
      "Epoch 9/50\n",
      "2700/2700 - 1s - loss: 0.2889 - accuracy: 0.8770 - val_loss: 0.5247 - val_accuracy: 0.7367 - 716ms/epoch - 265us/sample\n",
      "Epoch 10/50\n",
      "2700/2700 - 1s - loss: 0.2720 - accuracy: 0.8859 - val_loss: 0.5495 - val_accuracy: 0.7500 - 741ms/epoch - 274us/sample\n",
      "Epoch 11/50\n",
      "2700/2700 - 1s - loss: 0.2465 - accuracy: 0.8963 - val_loss: 0.6023 - val_accuracy: 0.7433 - 691ms/epoch - 256us/sample\n",
      "Epoch 12/50\n",
      "2700/2700 - 1s - loss: 0.2285 - accuracy: 0.9015 - val_loss: 0.5745 - val_accuracy: 0.7567 - 724ms/epoch - 268us/sample\n",
      "Epoch 13/50\n",
      "2700/2700 - 1s - loss: 0.2030 - accuracy: 0.9185 - val_loss: 0.5609 - val_accuracy: 0.7500 - 704ms/epoch - 261us/sample\n",
      "Epoch 14/50\n",
      "2700/2700 - 1s - loss: 0.1683 - accuracy: 0.9296 - val_loss: 0.5961 - val_accuracy: 0.7600 - 684ms/epoch - 253us/sample\n",
      "Epoch 15/50\n",
      "2700/2700 - 1s - loss: 0.1776 - accuracy: 0.9278 - val_loss: 0.6781 - val_accuracy: 0.7467 - 736ms/epoch - 272us/sample\n",
      "Epoch 16/50\n",
      "2700/2700 - 1s - loss: 0.1584 - accuracy: 0.9370 - val_loss: 0.7160 - val_accuracy: 0.7567 - 699ms/epoch - 259us/sample\n",
      "Epoch 17/50\n",
      "2700/2700 - 1s - loss: 0.1671 - accuracy: 0.9293 - val_loss: 0.7799 - val_accuracy: 0.7500 - 702ms/epoch - 260us/sample\n",
      "Epoch 18/50\n",
      "2700/2700 - 1s - loss: 0.1439 - accuracy: 0.9493 - val_loss: 0.6671 - val_accuracy: 0.7567 - 810ms/epoch - 300us/sample\n",
      "Epoch 19/50\n",
      "2700/2700 - 1s - loss: 0.1424 - accuracy: 0.9448 - val_loss: 0.6977 - val_accuracy: 0.7400 - 682ms/epoch - 253us/sample\n",
      "Epoch 20/50\n",
      "2700/2700 - 1s - loss: 0.1340 - accuracy: 0.9470 - val_loss: 0.7390 - val_accuracy: 0.7467 - 696ms/epoch - 258us/sample\n",
      "Epoch 21/50\n",
      "2700/2700 - 1s - loss: 0.1237 - accuracy: 0.9511 - val_loss: 0.6810 - val_accuracy: 0.7333 - 726ms/epoch - 269us/sample\n",
      "Epoch 22/50\n",
      "2700/2700 - 1s - loss: 0.1220 - accuracy: 0.9507 - val_loss: 0.7388 - val_accuracy: 0.7433 - 656ms/epoch - 243us/sample\n",
      "Epoch 23/50\n",
      "2700/2700 - 1s - loss: 0.1050 - accuracy: 0.9611 - val_loss: 0.7066 - val_accuracy: 0.7400 - 683ms/epoch - 253us/sample\n",
      "Epoch 24/50\n",
      "2700/2700 - 1s - loss: 0.1011 - accuracy: 0.9593 - val_loss: 0.7808 - val_accuracy: 0.7133 - 725ms/epoch - 268us/sample\n",
      "Epoch 25/50\n",
      "2700/2700 - 1s - loss: 0.1131 - accuracy: 0.9552 - val_loss: 0.6237 - val_accuracy: 0.7400 - 640ms/epoch - 237us/sample\n",
      "Epoch 26/50\n",
      "2700/2700 - 1s - loss: 0.1013 - accuracy: 0.9589 - val_loss: 0.8184 - val_accuracy: 0.7300 - 687ms/epoch - 254us/sample\n",
      "Epoch 27/50\n",
      "2700/2700 - 1s - loss: 0.1081 - accuracy: 0.9630 - val_loss: 0.9526 - val_accuracy: 0.7200 - 695ms/epoch - 258us/sample\n",
      "Epoch 28/50\n",
      "2700/2700 - 1s - loss: 0.0989 - accuracy: 0.9630 - val_loss: 0.9988 - val_accuracy: 0.7233 - 655ms/epoch - 243us/sample\n",
      "Epoch 29/50\n",
      "2700/2700 - 1s - loss: 0.0967 - accuracy: 0.9585 - val_loss: 0.8396 - val_accuracy: 0.7533 - 697ms/epoch - 258us/sample\n",
      "Epoch 30/50\n",
      "2700/2700 - 1s - loss: 0.0827 - accuracy: 0.9670 - val_loss: 0.8386 - val_accuracy: 0.7467 - 707ms/epoch - 262us/sample\n",
      "Epoch 31/50\n",
      "2700/2700 - 1s - loss: 0.0726 - accuracy: 0.9726 - val_loss: 1.0066 - val_accuracy: 0.7433 - 655ms/epoch - 242us/sample\n",
      "Epoch 32/50\n",
      "2700/2700 - 1s - loss: 0.0854 - accuracy: 0.9670 - val_loss: 0.8485 - val_accuracy: 0.7033 - 688ms/epoch - 255us/sample\n",
      "Epoch 33/50\n",
      "2700/2700 - 1s - loss: 0.0880 - accuracy: 0.9670 - val_loss: 0.8519 - val_accuracy: 0.7500 - 683ms/epoch - 253us/sample\n",
      "Epoch 34/50\n",
      "2700/2700 - 1s - loss: 0.0729 - accuracy: 0.9748 - val_loss: 1.0227 - val_accuracy: 0.7400 - 657ms/epoch - 243us/sample\n",
      "Epoch 35/50\n",
      "2700/2700 - 1s - loss: 0.0633 - accuracy: 0.9756 - val_loss: 1.0662 - val_accuracy: 0.7467 - 702ms/epoch - 260us/sample\n",
      "Epoch 36/50\n",
      "2700/2700 - 1s - loss: 0.0815 - accuracy: 0.9681 - val_loss: 1.0542 - val_accuracy: 0.7467 - 681ms/epoch - 252us/sample\n",
      "Epoch 37/50\n",
      "2700/2700 - 1s - loss: 0.0621 - accuracy: 0.9756 - val_loss: 1.0219 - val_accuracy: 0.7600 - 647ms/epoch - 240us/sample\n",
      "Epoch 38/50\n",
      "2700/2700 - 1s - loss: 0.0861 - accuracy: 0.9681 - val_loss: 0.7922 - val_accuracy: 0.7567 - 697ms/epoch - 258us/sample\n",
      "Epoch 39/50\n",
      "2700/2700 - 1s - loss: 0.0653 - accuracy: 0.9774 - val_loss: 0.9933 - val_accuracy: 0.7267 - 673ms/epoch - 249us/sample\n",
      "Epoch 40/50\n",
      "2700/2700 - 1s - loss: 0.0617 - accuracy: 0.9759 - val_loss: 0.9183 - val_accuracy: 0.7567 - 656ms/epoch - 243us/sample\n",
      "Epoch 41/50\n",
      "2700/2700 - 1s - loss: 0.0735 - accuracy: 0.9733 - val_loss: 1.0045 - val_accuracy: 0.7533 - 698ms/epoch - 259us/sample\n",
      "Epoch 42/50\n",
      "2700/2700 - 1s - loss: 0.0797 - accuracy: 0.9711 - val_loss: 0.9510 - val_accuracy: 0.7267 - 687ms/epoch - 254us/sample\n",
      "Epoch 43/50\n",
      "2700/2700 - 1s - loss: 0.0584 - accuracy: 0.9796 - val_loss: 0.9964 - val_accuracy: 0.7533 - 661ms/epoch - 245us/sample\n",
      "Epoch 44/50\n",
      "2700/2700 - 1s - loss: 0.0722 - accuracy: 0.9763 - val_loss: 0.9006 - val_accuracy: 0.7233 - 718ms/epoch - 266us/sample\n",
      "Epoch 45/50\n",
      "2700/2700 - 1s - loss: 0.0620 - accuracy: 0.9759 - val_loss: 0.9621 - val_accuracy: 0.7267 - 681ms/epoch - 252us/sample\n",
      "Epoch 46/50\n",
      "2700/2700 - 1s - loss: 0.0659 - accuracy: 0.9748 - val_loss: 0.9601 - val_accuracy: 0.7300 - 662ms/epoch - 245us/sample\n",
      "Epoch 47/50\n",
      "2700/2700 - 1s - loss: 0.0650 - accuracy: 0.9741 - val_loss: 1.0096 - val_accuracy: 0.7400 - 735ms/epoch - 272us/sample\n",
      "Epoch 48/50\n",
      "2700/2700 - 1s - loss: 0.0562 - accuracy: 0.9744 - val_loss: 1.0264 - val_accuracy: 0.7467 - 672ms/epoch - 249us/sample\n",
      "Epoch 49/50\n",
      "2700/2700 - 1s - loss: 0.0661 - accuracy: 0.9763 - val_loss: 1.0196 - val_accuracy: 0.7400 - 691ms/epoch - 256us/sample\n",
      "Epoch 50/50\n",
      "2700/2700 - 1s - loss: 0.0694 - accuracy: 0.9744 - val_loss: 0.9677 - val_accuracy: 0.7500 - 733ms/epoch - 271us/sample\n"
     ]
    }
   ],
   "source": [
    "num_epochs = 50\n",
    "\n",
    "training_padded = np.array(training_sequences1) \n",
    "training_labels = np.array(training_labels) \n",
    "testing_padded = np.array(test_sequences1) \n",
    "testing_labels = np.array(test_labels) \n",
    "\n",
    "history = model.fit(training_padded, training_labels, \n",
    "                epochs=num_epochs, \n",
    "                validation_data=(testing_padded, \n",
    "                                testing_labels), \n",
    "                verbose=2) \n"
   ]
  },
  {
   "cell_type": "markdown",
   "id": "104234a6",
   "metadata": {},
   "source": [
    "## Model Evaluation and Prediction"
   ]
  },
  {
   "cell_type": "code",
   "execution_count": 20,
   "id": "84b6fbb8",
   "metadata": {},
   "outputs": [
    {
     "name": "stdout",
     "output_type": "stream",
     "text": [
      "This news is false\n"
     ]
    }
   ],
   "source": [
    "# sample text to check if fake or not \n",
    "X = \"Shakira and Piqué are together again\"\n",
    "\n",
    "# detection \n",
    "sequences = tokenizer1.texts_to_sequences([X])[0] \n",
    "sequences = pad_sequences([sequences], maxlen=54, \n",
    "                    padding=padding_type, \n",
    "                    truncating=trunc_type) \n",
    "if(model.predict(sequences, verbose=0)[0][0] >= 0.5): \n",
    "    print(\"This news is True\") \n",
    "else: \n",
    "    print(\"This news is false\") \n"
   ]
  },
  {
   "cell_type": "code",
   "execution_count": null,
   "id": "45dc7a49",
   "metadata": {},
   "outputs": [],
   "source": []
  }
 ],
 "metadata": {
  "kernelspec": {
   "display_name": "venv_fake",
   "language": "python",
   "name": "venv_fake"
  },
  "language_info": {
   "codemirror_mode": {
    "name": "ipython",
    "version": 3
   },
   "file_extension": ".py",
   "mimetype": "text/x-python",
   "name": "python",
   "nbconvert_exporter": "python",
   "pygments_lexer": "ipython3",
   "version": "3.10.6"
  }
 },
 "nbformat": 4,
 "nbformat_minor": 5
}
